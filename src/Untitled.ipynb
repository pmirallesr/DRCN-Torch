{
 "cells": [
  {
   "cell_type": "code",
   "execution_count": 23,
   "metadata": {},
   "outputs": [],
   "source": [
    "# Imports\n",
    "\n",
    "import torch\n",
    "import torchvision\n",
    "from torch import nn\n",
    "import logging\n",
    "import numpy as np\n",
    "\n",
    "import tensorflow as tf\n",
    "import datetime\n",
    "\n",
    "log_dir = \"logs/fit/\" + datetime.datetime.now().strftime(\"%Y%m%d-%H%M%S\")"
   ]
  },
  {
   "cell_type": "code",
   "execution_count": 24,
   "metadata": {},
   "outputs": [],
   "source": [
    "# Hyperparameters\n",
    "nbEpochs = 50\n",
    "train_batch_size = 100\n",
    "test_batch_size = 100\n",
    "train = \"SVHN\"\n",
    "test = \"MNIST\"\n",
    "dataPath = '/home/pmirallesr/eclipse-workspace/DRCN/data/'"
   ]
  },
  {
   "cell_type": "code",
   "execution_count": 82,
   "metadata": {},
   "outputs": [],
   "source": [
    "class ImpulseDenoising:\n",
    "    \"\"\"Erase a pixel with probability p\"\"\"\n",
    "\n",
    "    def __init__(self, p = 0.5):\n",
    "        self.p = p\n",
    "\n",
    "    def __call__(self, x):\n",
    "        return x.numpy() * np.random.binomial(1, self.p, size=x.shape)"
   ]
  },
  {
   "cell_type": "code",
   "execution_count": 86,
   "metadata": {},
   "outputs": [],
   "source": [
    "MNIST_Transforms = []\n",
    "MNIST_Transforms.append(torchvision.transforms.ToTensor())\n",
    "dataAugmentTransforms = []\n",
    "# dataAugmentTransforms.append(torchvision.transforms.RandomAffine(degrees = 20, translate = (0.2, 0.2)))\n",
    "# Denoising\n",
    "dataAugmentTransforms.append(ImpulseDenoising(0))\n",
    "MNIST_Transforms += dataAugmentTransforms\n"
   ]
  },
  {
   "cell_type": "code",
   "execution_count": 87,
   "metadata": {},
   "outputs": [],
   "source": [
    "train_MNIST_loader = torch.utils.data.DataLoader \\\n",
    "                (torchvision.datasets.MNIST(dataPath, \\\n",
    "                train = True, download = True, \\\n",
    "                transform = torchvision.transforms.Compose\\\n",
    "                (MNIST_Transforms)), batch_size = train_batch_size, shuffle = False)\n",
    "train_MNIST_loader2 = torch.utils.data.DataLoader \\\n",
    "                (torchvision.datasets.MNIST(dataPath, \\\n",
    "                train = True, download = True, \\\n",
    "                transform = torchvision.transforms.ToTensor()), \\\n",
    "                batch_size = train_batch_size, shuffle = False)"
   ]
  },
  {
   "cell_type": "code",
   "execution_count": 88,
   "metadata": {},
   "outputs": [
    {
     "name": "stdout",
     "output_type": "stream",
     "text": [
      "Data is\n",
      "0\n",
      "tensor([0., 0., 0., 0., 0., 0., 0., 0., 0., 0., 0., 0., 0., 0., 0., 0., 0., 0., 0., 0., 0., 0., 0., 0.,\n",
      "        0., 0., 0., 0.], dtype=torch.float64)\n",
      "Pure data was\n",
      "0\n",
      "tensor([0.0000, 0.0000, 0.0000, 0.0000, 0.0000, 0.0000, 0.0000, 0.0000, 0.0000,\n",
      "        0.0000, 0.0000, 0.0000, 0.0118, 0.0706, 0.0706, 0.0706, 0.4941, 0.5333,\n",
      "        0.6863, 0.1020, 0.6510, 1.0000, 0.9686, 0.4980, 0.0000, 0.0000, 0.0000,\n",
      "        0.0000])\n"
     ]
    }
   ],
   "source": [
    "dataset = enumerate(train_MNIST_loader)\n",
    "datasetPure = enumerate(train_MNIST_loader2)\n",
    "batch_id, (data, target) = next(dataset)\n",
    "print(\"Data is\")\n",
    "print(batch_id)\n",
    "print(data[0][0][5])\n",
    "batch_id2, (data2, target2) = next(datasetPure)\n",
    "print(\"Pure data was\")\n",
    "print(batch_id2)\n",
    "print(data2[0][0][5])"
   ]
  },
  {
   "cell_type": "code",
   "execution_count": null,
   "metadata": {},
   "outputs": [],
   "source": []
  }
 ],
 "metadata": {
  "kernelspec": {
   "display_name": "Python 3",
   "language": "python",
   "name": "python3"
  },
  "language_info": {
   "codemirror_mode": {
    "name": "ipython",
    "version": 3
   },
   "file_extension": ".py",
   "mimetype": "text/x-python",
   "name": "python",
   "nbconvert_exporter": "python",
   "pygments_lexer": "ipython3",
   "version": "3.6.9"
  }
 },
 "nbformat": 4,
 "nbformat_minor": 4
}
